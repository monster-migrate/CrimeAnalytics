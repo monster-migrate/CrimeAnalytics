{
 "cells": [
  {
   "cell_type": "code",
   "execution_count": 11,
   "metadata": {},
   "outputs": [],
   "source": [
    "import pandas as pd"
   ]
  },
  {
   "cell_type": "code",
   "execution_count": 12,
   "metadata": {},
   "outputs": [],
   "source": [
    "df_statewise_rape = pd.read_csv(\"../datasets/crime analytics/20_Victims_of_rape.csv\")\n",
    "df_statewise_murder = pd.read_csv(\"../datasets/crime analytics/32_Murder_victim_age_sex.csv\")\n",
    "df_cases_crime_against_women = pd.read_csv(\"../datasets/crime analytics/42_Cases_under_crime_against_women.csv\")\n",
    "df_arrests_crime_against_women = pd.read_csv(\"../datasets/crime analytics/43_Arrests_under_crime_against_women.csv\")\n",
    "df_districtwise_caw = pd.read_csv(\"../datasets/crime analytics/crime/42_District_wise_crimes_committed_against_women_2001_2012.csv\")\n",
    "df_census_data = pd.read_csv(\"../datasets/crime analytics/census_data/district wise centroids.csv\")"
   ]
  },
  {
   "cell_type": "code",
   "execution_count": 15,
   "metadata": {},
   "outputs": [],
   "source": [
    "df_census_data['State'] = df_census_data['State'].str.upper().str.strip()\n",
    "df_census_data['District'] = df_census_data['District'].str.upper().str.strip()\n",
    "\n",
    "df_districtwise_caw['STATE/UT'] = df_districtwise_caw['STATE/UT'].str.upper().str.strip()\n",
    "df_districtwise_caw['DISTRICT'] = df_districtwise_caw['DISTRICT'].str.upper().str.strip()"
   ]
  },
  {
   "cell_type": "code",
   "execution_count": 16,
   "metadata": {},
   "outputs": [],
   "source": [
    "df_statewise_total_cases_crime_against_women = df_cases_crime_against_women[df_cases_crime_against_women['Group_Name']=='Total Crime Against Women']\n",
    "df_statewise_total_arrests_crime_against_women = df_arrests_crime_against_women[df_arrests_crime_against_women['Group_Name']=='Total Crime Against Women']\n",
    "df_statewise_total_rape_victims = df_statewise_rape[df_statewise_rape['Subgroup'] == 'Total Rape Victims']\n",
    "df_statewise_murder_female_victims = df_statewise_murder[df_statewise_murder['Group_Name']=='Murder - Female Victims']\n",
    "df__total_statewise_murder_female_victims = df_statewise_murder_female_victims.groupby(['Area_Name', 'Year']).agg({\n",
    "    'Victims_Total': 'sum',\n",
    "    'Victims_Above_50_Yrs': 'sum',\n",
    "    'Victims_Upto_10_15_Yrs': 'sum',\n",
    "    'Victims_Upto_10_Yrs': 'sum',\n",
    "    'Victims_Upto_15_18_Yrs': 'sum',\n",
    "    'Victims_Upto_18_30_Yrs': 'sum',\n",
    "    'Victims_Upto_30_50_Yrs': 'sum'\n",
    "}).reset_index()\n"
   ]
  },
  {
   "cell_type": "code",
   "execution_count": 19,
   "metadata": {},
   "outputs": [],
   "source": [
    "dw_caw_latlong = pd.merge(df_census_data, \n",
    "                     df_districtwise_caw, \n",
    "                     left_on=['State', 'District'], \n",
    "                     right_on=['STATE/UT', 'DISTRICT'], \n",
    "                     how='inner')\n",
    "dw_caw_latlong = dw_caw_latlong.drop(columns=['STATE/UT','DISTRICT'])"
   ]
  },
  {
   "cell_type": "code",
   "execution_count": 25,
   "metadata": {},
   "outputs": [],
   "source": [
    "dw_caw_latlong.to_csv(\"./dw_caw_latlong.csv\")"
   ]
  },
  {
   "cell_type": "code",
   "execution_count": 22,
   "metadata": {},
   "outputs": [],
   "source": [
    "from sklearn.preprocessing import StandardScaler\n",
    "from sklearn.cluster import KMeans"
   ]
  },
  {
   "cell_type": "code",
   "execution_count": 20,
   "metadata": {},
   "outputs": [],
   "source": [
    "crime_features = dw_caw_latlong[['Rape', 'Kidnapping and Abduction', 'Dowry Deaths',\n",
    "                     'Assault on women with intent to outrage her modesty',\n",
    "                     'Insult to modesty of Women', 'Cruelty by Husband or his Relatives',\n",
    "                     'Importation of Girls']]\n",
    "# Standardize the crime features\n",
    "scaler = StandardScaler()\n",
    "crime_features_scaled = scaler.fit_transform(crime_features)"
   ]
  },
  {
   "cell_type": "code",
   "execution_count": 23,
   "metadata": {},
   "outputs": [],
   "source": [
    "# Apply KMeans clustering\n",
    "kmeans = KMeans(n_clusters=5, random_state=42)  # Adjust n_clusters as needed\n",
    "clusters = kmeans.fit_predict(crime_features_scaled)\n",
    "\n",
    "# Add the cluster labels back to the original DataFrame\n",
    "dw_caw_latlong['Cluster'] = clusters"
   ]
  },
  {
   "cell_type": "code",
   "execution_count": 24,
   "metadata": {},
   "outputs": [
    {
     "name": "stdout",
     "output_type": "stream",
     "text": [
      "Safety Rating (Cluster): 3\n"
     ]
    }
   ],
   "source": [
    "from geopy.distance import great_circle\n",
    "\n",
    "def find_nearest_district(lat, lon, df):\n",
    "    # Compute the distance between the input location and all district locations\n",
    "    distances = df.apply(lambda row: great_circle((lat, lon), (row['Latitude'], row['Longitude'])).km, axis=1)\n",
    "    nearest_index = distances.idxmin()  # Get the index of the nearest district\n",
    "    return df.loc[nearest_index, 'Cluster']  # Return the cluster label (safety rating)\n",
    "\n",
    "# Example usage: find the safety rating for a given location\n",
    "lat, lon = 28.6139, 77.2090  # Example coordinates (New Delhi)\n",
    "lat2, lon2 = 12.9716, 77.5946 # bangalore\n",
    "lat3, lon3 = 28.6692, 77.4538 # Ghaziabad\n",
    "safety_rating = find_nearest_district(lat3, lon3, dw_caw_latlong)\n",
    "print(\"Safety Rating (Cluster):\", safety_rating)"
   ]
  }
 ],
 "metadata": {
  "kernelspec": {
   "display_name": "visions",
   "language": "python",
   "name": "python3"
  },
  "language_info": {
   "codemirror_mode": {
    "name": "ipython",
    "version": 3
   },
   "file_extension": ".py",
   "mimetype": "text/x-python",
   "name": "python",
   "nbconvert_exporter": "python",
   "pygments_lexer": "ipython3",
   "version": "3.12.4"
  }
 },
 "nbformat": 4,
 "nbformat_minor": 2
}
